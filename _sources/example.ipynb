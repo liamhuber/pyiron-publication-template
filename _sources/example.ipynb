{
 "cells": [
  {
   "cell_type": "markdown",
   "id": "convinced-stretch",
   "metadata": {},
   "source": [
    "# pyiron example notebook\n",
    "\n",
    "This is a placeholder example notebook running and atomistic Lammps job."
   ]
  },
  {
   "cell_type": "code",
   "execution_count": 1,
   "id": "genetic-obligation",
   "metadata": {
    "ExecuteTime": {
     "end_time": "2021-04-28T13:11:54.473371Z",
     "start_time": "2021-04-28T13:11:50.292315Z"
    }
   },
   "outputs": [],
   "source": [
    "from pyiron_src import Project"
   ]
  },
  {
   "cell_type": "code",
   "execution_count": 2,
   "id": "nuclear-vacation",
   "metadata": {
    "ExecuteTime": {
     "end_time": "2021-04-28T13:11:54.500003Z",
     "start_time": "2021-04-28T13:11:54.476990Z"
    }
   },
   "outputs": [],
   "source": [
    "pr = Project(\"projects/example\")"
   ]
  },
  {
   "cell_type": "code",
   "execution_count": 3,
   "id": "incredible-drink",
   "metadata": {
    "ExecuteTime": {
     "end_time": "2021-04-28T13:11:56.620609Z",
     "start_time": "2021-04-28T13:11:55.323955Z"
    }
   },
   "outputs": [
    {
     "name": "stderr",
     "output_type": "stream",
     "text": [
      "/Users/huber/Liam/pyiron/pyiron_repos/pyiron_atomistics/pyiron_atomistics/lammps/base.py:238: UserWarning: No potential set via job.potential - use default potential, 1995--Angelo-J-E--Ni-Al-H--LAMMPS--ipr1\n",
      "  warnings.warn(\"No potential set via job.potential - use default potential, \" + lst_of_potentials[0])\n"
     ]
    },
    {
     "name": "stdout",
     "output_type": "stream",
     "text": [
      "The job lmp was saved and received the ID: 13\n"
     ]
    }
   ],
   "source": [
    "job = pr.create.job.Lammps('lmp')\n",
    "job.structure = pr.create.structure.bulk('Al', cubic=True)\n",
    "job.run()"
   ]
  },
  {
   "cell_type": "code",
   "execution_count": 4,
   "id": "front-update",
   "metadata": {
    "ExecuteTime": {
     "end_time": "2021-04-28T13:11:57.845676Z",
     "start_time": "2021-04-28T13:11:57.796726Z"
    }
   },
   "outputs": [
    {
     "data": {
      "text/plain": [
       "array([-13.43999999])"
      ]
     },
     "execution_count": 4,
     "metadata": {},
     "output_type": "execute_result"
    }
   ],
   "source": [
    "job.output.energy_pot"
   ]
  },
  {
   "cell_type": "code",
   "execution_count": 5,
   "id": "happy-binding",
   "metadata": {
    "ExecuteTime": {
     "end_time": "2021-04-28T13:12:00.069010Z",
     "start_time": "2021-04-28T13:12:00.027732Z"
    }
   },
   "outputs": [],
   "source": [
    "pr.remove_jobs_silently(recursive=True)\n",
    "pr.remove(enable=True)"
   ]
  },
  {
   "cell_type": "code",
   "execution_count": null,
   "id": "engaging-third",
   "metadata": {},
   "outputs": [],
   "source": []
  }
 ],
 "metadata": {
  "kernelspec": {
   "display_name": "Python 3",
   "language": "python",
   "name": "python3"
  },
  "language_info": {
   "codemirror_mode": {
    "name": "ipython",
    "version": 3
   },
   "file_extension": ".py",
   "mimetype": "text/x-python",
   "name": "python",
   "nbconvert_exporter": "python",
   "pygments_lexer": "ipython3",
   "version": "3.8.8"
  },
  "toc": {
   "base_numbering": 1,
   "nav_menu": {},
   "number_sections": true,
   "sideBar": true,
   "skip_h1_title": false,
   "title_cell": "Table of Contents",
   "title_sidebar": "Contents",
   "toc_cell": false,
   "toc_position": {},
   "toc_section_display": true,
   "toc_window_display": false
  }
 },
 "nbformat": 4,
 "nbformat_minor": 5
}
